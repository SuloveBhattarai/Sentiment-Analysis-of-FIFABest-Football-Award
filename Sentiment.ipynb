{
 "cells": [
  {
   "cell_type": "code",
   "execution_count": 1,
   "id": "c3eabe53",
   "metadata": {},
   "outputs": [],
   "source": [
    "import pandas as pd"
   ]
  },
  {
   "cell_type": "code",
   "execution_count": 2,
   "id": "ca6665c4",
   "metadata": {},
   "outputs": [],
   "source": [
    "df = pd.read_csv('ISEAR.csv')"
   ]
  },
  {
   "cell_type": "code",
   "execution_count": 3,
   "id": "4f75be55",
   "metadata": {},
   "outputs": [
    {
     "data": {
      "text/html": [
       "<div>\n",
       "<style scoped>\n",
       "    .dataframe tbody tr th:only-of-type {\n",
       "        vertical-align: middle;\n",
       "    }\n",
       "\n",
       "    .dataframe tbody tr th {\n",
       "        vertical-align: top;\n",
       "    }\n",
       "\n",
       "    .dataframe thead th {\n",
       "        text-align: right;\n",
       "    }\n",
       "</style>\n",
       "<table border=\"1\" class=\"dataframe\">\n",
       "  <thead>\n",
       "    <tr style=\"text-align: right;\">\n",
       "      <th></th>\n",
       "      <th>Emotion</th>\n",
       "      <th>Text</th>\n",
       "    </tr>\n",
       "  </thead>\n",
       "  <tbody>\n",
       "    <tr>\n",
       "      <th>0</th>\n",
       "      <td>fear</td>\n",
       "      <td>Every time I imagine that someone I love or I ...</td>\n",
       "    </tr>\n",
       "    <tr>\n",
       "      <th>1</th>\n",
       "      <td>anger</td>\n",
       "      <td>When I had been obviously unjustly treated and...</td>\n",
       "    </tr>\n",
       "    <tr>\n",
       "      <th>2</th>\n",
       "      <td>sadness</td>\n",
       "      <td>When I think about the short time that we live...</td>\n",
       "    </tr>\n",
       "    <tr>\n",
       "      <th>3</th>\n",
       "      <td>disgust</td>\n",
       "      <td>At a gathering I found myself involuntarily si...</td>\n",
       "    </tr>\n",
       "    <tr>\n",
       "      <th>4</th>\n",
       "      <td>shame</td>\n",
       "      <td>When I realized that I was directing the feeli...</td>\n",
       "    </tr>\n",
       "  </tbody>\n",
       "</table>\n",
       "</div>"
      ],
      "text/plain": [
       "   Emotion                                               Text\n",
       "0     fear  Every time I imagine that someone I love or I ...\n",
       "1    anger  When I had been obviously unjustly treated and...\n",
       "2  sadness  When I think about the short time that we live...\n",
       "3  disgust  At a gathering I found myself involuntarily si...\n",
       "4    shame  When I realized that I was directing the feeli..."
      ]
     },
     "execution_count": 3,
     "metadata": {},
     "output_type": "execute_result"
    }
   ],
   "source": [
    "#df.rename(columns= {'joy': 'Emotion', 'On days when I feel close to my partner and other friends. \\nWhen I feel at peace with myself and also experience a close \\ncontact with people whom I regard greatly': 'Text'},inplace= False)\n",
    "df.head\n",
    "df.drop(columns=['Unnamed: 2'],inplace=True)\n",
    "df.columns= ['Emotion', 'Text']\n",
    "df.head()"
   ]
  },
  {
   "cell_type": "code",
   "execution_count": 4,
   "id": "237bbb3d",
   "metadata": {},
   "outputs": [],
   "source": [
    "\n",
    "from nltk.corpus import stopwords\n",
    "from nltk.stem.wordnet import WordNetLemmatizer\n",
    "import string\n",
    "from textblob.classifiers import NaiveBayesClassifier\n",
    "from textblob import TextBlob\n",
    "from nltk.corpus import stopwords\n",
    "from nltk.stem import PorterStemmer\n",
    "from textblob import Word\n",
    "from nltk.util import ngrams\n",
    "import re\n",
    "from nltk.tokenize import word_tokenize\n",
    "import matplotlib.pyplot as plt\n",
    "from sklearn.feature_extraction.text import CountVectorizer,TfidfVectorizer\n",
    "from sklearn.decomposition import LatentDirichletAllocation\n",
    "import sklearn.feature_extraction.text as text\n",
    "from sklearn.decomposition import NMF, LatentDirichletAllocation, TruncatedSVD\n",
    "from sklearn import model_selection, preprocessing, linear_model, naive_bayes, metrics, svm\n",
    "import xgboost\n",
    "from sklearn import decomposition, ensemble\n",
    "import pandas, numpy, textblob, string\n",
    "import re\n",
    "import nltk\n",
    "from sklearn.metrics import classification_report\n",
    "from sklearn.metrics import confusion_matrix\n",
    "from sklearn.metrics import accuracy_score\n",
    "from sklearn.metrics import mean_absolute_error"
   ]
  },
  {
   "cell_type": "markdown",
   "id": "0fff4ab2",
   "metadata": {},
   "source": [
    "## Data- PreProcessing"
   ]
  },
  {
   "cell_type": "markdown",
   "id": "93b34e18",
   "metadata": {},
   "source": [
    "### Uppercase to lowercase"
   ]
  },
  {
   "cell_type": "code",
   "execution_count": 5,
   "id": "0a7a26ea",
   "metadata": {},
   "outputs": [],
   "source": [
    "df['Text'] = df['Text'].apply(lambda a: \" \".join(a.lower()for a in a.split()))"
   ]
  },
  {
   "cell_type": "markdown",
   "id": "11206b0b",
   "metadata": {},
   "source": [
    "### Removing whitespace characters"
   ]
  },
  {
   "cell_type": "code",
   "execution_count": 6,
   "id": "def28e9b",
   "metadata": {},
   "outputs": [],
   "source": [
    "df['Text'] = df['Text'].apply(lambda a: \" \".join(a.replace('[^\\w\\s]','') for a in a.split()))"
   ]
  },
  {
   "cell_type": "markdown",
   "id": "85738148",
   "metadata": {},
   "source": [
    "### Removing stop words"
   ]
  },
  {
   "cell_type": "code",
   "execution_count": 7,
   "id": "a3df98e7",
   "metadata": {},
   "outputs": [],
   "source": [
    "stop= stopwords.words('english')\n",
    "df['Text']= df['Text'].apply(lambda a: \" \".join(a for a in a.split() if a not in stop))"
   ]
  },
  {
   "cell_type": "markdown",
   "id": "e60afd07",
   "metadata": {},
   "source": [
    "### Spelling correction"
   ]
  },
  {
   "cell_type": "code",
   "execution_count": 8,
   "id": "9eeaa0a6",
   "metadata": {},
   "outputs": [],
   "source": [
    "df['Text']= df['Text'].apply(lambda a: str(TextBlob(a).correct()))"
   ]
  },
  {
   "cell_type": "markdown",
   "id": "f00e0594",
   "metadata": {},
   "source": [
    "### Stemming"
   ]
  },
  {
   "cell_type": "code",
   "execution_count": 9,
   "id": "b0b18502",
   "metadata": {},
   "outputs": [],
   "source": [
    "st= PorterStemmer()\n",
    "df['Text']= df['Text'].apply(lambda a:\" \".join([st.stem(word) for word in a.split()]))"
   ]
  },
  {
   "cell_type": "code",
   "execution_count": 52,
   "id": "3a6b1d9a",
   "metadata": {},
   "outputs": [
    {
     "data": {
      "text/plain": [
       "5    1082\n",
       "0    1079\n",
       "2    1076\n",
       "6    1071\n",
       "1    1066\n",
       "3    1049\n",
       "Name: Emotion, dtype: int64"
      ]
     },
     "execution_count": 52,
     "metadata": {},
     "output_type": "execute_result"
    }
   ],
   "source": [
    "df['Emotion'].value_counts()"
   ]
  },
  {
   "cell_type": "markdown",
   "id": "34721600",
   "metadata": {},
   "source": [
    "## Encoding\n",
    "Converting categorical value to the numerical value. "
   ]
  },
  {
   "cell_type": "code",
   "execution_count": null,
   "id": "643463eb",
   "metadata": {},
   "outputs": [],
   "source": []
  },
  {
   "cell_type": "code",
   "execution_count": 15,
   "id": "a2c4d4c9",
   "metadata": {},
   "outputs": [],
   "source": [
    "object= preprocessing.LabelEncoder()\n",
    "df['Emotion']= object.fit_transform(df['Emotion'])\n"
   ]
  },
  {
   "cell_type": "code",
   "execution_count": 16,
   "id": "1ea89ec8",
   "metadata": {},
   "outputs": [
    {
     "data": {
      "text/plain": [
       "4    1091\n",
       "5    1082\n",
       "0    1079\n",
       "2    1076\n",
       "6    1071\n",
       "1    1066\n",
       "3    1049\n",
       "Name: Emotion, dtype: int64"
      ]
     },
     "execution_count": 16,
     "metadata": {},
     "output_type": "execute_result"
    }
   ],
   "source": [
    "df['Emotion'].value_counts()"
   ]
  },
  {
   "cell_type": "code",
   "execution_count": 17,
   "id": "a6520bfc",
   "metadata": {},
   "outputs": [],
   "source": [
    "condition= (df['Emotion']==4)\n",
    "df.drop(df[condition].index,inplace=True)"
   ]
  },
  {
   "cell_type": "code",
   "execution_count": null,
   "id": "d18df915",
   "metadata": {},
   "outputs": [],
   "source": []
  },
  {
   "cell_type": "code",
   "execution_count": 18,
   "id": "41d8cf80",
   "metadata": {},
   "outputs": [],
   "source": [
    "# object= preprocessing.LabelEncoder()\n",
    "# df['Emotion']= object.fit_transform(df['Emotion'])\n"
   ]
  },
  {
   "cell_type": "code",
   "execution_count": 19,
   "id": "fa7f72fa",
   "metadata": {},
   "outputs": [
    {
     "data": {
      "text/plain": [
       "5    1091\n",
       "6    1082\n",
       "0    1079\n",
       "2    1076\n",
       "7    1071\n",
       "1    1066\n",
       "3    1049\n",
       "Name: Emotion, dtype: int64"
      ]
     },
     "execution_count": 19,
     "metadata": {},
     "output_type": "execute_result"
    }
   ],
   "source": [
    "df['Emotion'].value_counts()"
   ]
  },
  {
   "cell_type": "markdown",
   "id": "57e7629e",
   "metadata": {},
   "source": [
    "## Training- Testing Split\n"
   ]
  },
  {
   "cell_type": "code",
   "execution_count": 18,
   "id": "2b51e9f6",
   "metadata": {},
   "outputs": [],
   "source": [
    "Xtrain, Xtest, Ytrain, Ytest = model_selection.train_test_split(df['Text'], df['Emotion'],stratify= df['Emotion'])  "
   ]
  },
  {
   "cell_type": "markdown",
   "id": "ee9eec63",
   "metadata": {},
   "source": [
    "## Conversion from Text to Features using Count Vectorizer method"
   ]
  },
  {
   "cell_type": "code",
   "execution_count": 19,
   "id": "b0493dea",
   "metadata": {},
   "outputs": [],
   "source": [
    "cv= CountVectorizer()\n",
    "cv.fit(df['Text'])\n",
    "cv_xtrain= cv.transform(Xtrain)\n",
    "cv_xtest= cv.transform(Xtest)"
   ]
  },
  {
   "cell_type": "markdown",
   "id": "d98245a4",
   "metadata": {},
   "source": [
    "## Text to Features using TF- IDF"
   ]
  },
  {
   "cell_type": "code",
   "execution_count": 20,
   "id": "56d226d5",
   "metadata": {},
   "outputs": [],
   "source": [
    "tv= TfidfVectorizer()\n",
    "tv.fit(df['Text'])\n",
    "tv_xtrain= tv.transform(Xtrain)\n",
    "tv_xtest= tv.transform(Xtest)"
   ]
  },
  {
   "cell_type": "markdown",
   "id": "f9eaf7db",
   "metadata": {},
   "source": [
    "## Building Model"
   ]
  },
  {
   "cell_type": "code",
   "execution_count": 21,
   "id": "8a4bfd5b",
   "metadata": {},
   "outputs": [],
   "source": [
    "def modelBuild(model_initializer, independent_variables_training, target, independent_variable_test):\n",
    "    classifier_model= model_initializer.fit(independent_variables_training, target)\n",
    "    modelPrediction= classifier_model.predict(independent_variable_test)\n",
    "    return metrics.accuracy_score(modelPrediction, Ytest)"
   ]
  },
  {
   "cell_type": "markdown",
   "id": "8aca596c",
   "metadata": {},
   "source": [
    "## Logistic Regression\n"
   ]
  },
  {
   "cell_type": "code",
   "execution_count": 22,
   "id": "5f8d906a",
   "metadata": {},
   "outputs": [
    {
     "name": "stderr",
     "output_type": "stream",
     "text": [
      "C:\\Users\\user\\anaconda3\\Lib\\site-packages\\sklearn\\linear_model\\_logistic.py:460: ConvergenceWarning: lbfgs failed to converge (status=1):\n",
      "STOP: TOTAL NO. of ITERATIONS REACHED LIMIT.\n",
      "\n",
      "Increase the number of iterations (max_iter) or scale the data as shown in:\n",
      "    https://scikit-learn.org/stable/modules/preprocessing.html\n",
      "Please also refer to the documentation for alternative solver options:\n",
      "    https://scikit-learn.org/stable/modules/linear_model.html#logistic-regression\n",
      "  n_iter_i = _check_optimize_result(\n"
     ]
    },
    {
     "name": "stdout",
     "output_type": "stream",
     "text": [
      "0.5616438356164384\n",
      "0.5784557907845579\n"
     ]
    }
   ],
   "source": [
    "## For Count Vectorizer:\n",
    "\n",
    "output= modelBuild(linear_model.LogisticRegression(), cv_xtrain, Ytrain, cv_xtest)\n",
    "print(output)\n",
    "\n",
    "##For TF-IDF\n",
    "output= modelBuild(linear_model.LogisticRegression(), tv_xtrain, Ytrain, tv_xtest)\n",
    "print(output)"
   ]
  },
  {
   "cell_type": "markdown",
   "id": "88595566",
   "metadata": {},
   "source": [
    "## Support Vector Machine"
   ]
  },
  {
   "cell_type": "code",
   "execution_count": 23,
   "id": "615d50be",
   "metadata": {},
   "outputs": [
    {
     "name": "stdout",
     "output_type": "stream",
     "text": [
      "0.539227895392279\n",
      "0.5722291407222914\n"
     ]
    }
   ],
   "source": [
    "## For Count Vectorizer:\n",
    "\n",
    "output= modelBuild(svm.SVC(), cv_xtrain, Ytrain, cv_xtest)\n",
    "print(output)\n",
    "\n",
    "##For TF-IDF\n",
    "output= modelBuild(svm.SVC(), tv_xtrain, Ytrain, tv_xtest)\n",
    "print(output)\n"
   ]
  },
  {
   "cell_type": "markdown",
   "id": "92226f75",
   "metadata": {},
   "source": [
    "## Random Forest"
   ]
  },
  {
   "cell_type": "code",
   "execution_count": 24,
   "id": "180d42aa",
   "metadata": {},
   "outputs": [
    {
     "name": "stdout",
     "output_type": "stream",
     "text": [
      "0.5516811955168119\n",
      "0.562266500622665\n"
     ]
    }
   ],
   "source": [
    "#For Count Vectorizer: \n",
    "\n",
    "output= modelBuild(ensemble.RandomForestClassifier(), cv_xtrain, Ytrain, cv_xtest)\n",
    "print(output)\n",
    "## For TF-IDF\n",
    "output= modelBuild(ensemble.RandomForestClassifier(), tv_xtrain, Ytrain, tv_xtest)\n",
    "print(output)"
   ]
  },
  {
   "cell_type": "markdown",
   "id": "37e27724",
   "metadata": {},
   "source": [
    "## Multinomial Naive Bayes"
   ]
  },
  {
   "cell_type": "code",
   "execution_count": 25,
   "id": "43c557c5",
   "metadata": {},
   "outputs": [
    {
     "name": "stdout",
     "output_type": "stream",
     "text": [
      "0.5765877957658779\n",
      "0.5784557907845579\n"
     ]
    }
   ],
   "source": [
    "#For Count Vectorizer: \n",
    "output= modelBuild(naive_bayes.MultinomialNB(), cv_xtrain, Ytrain, cv_xtest)\n",
    "print(output)\n",
    "\n",
    "output= modelBuild(naive_bayes.MultinomialNB(),tv_xtrain, Ytrain, tv_xtest)\n",
    "print(output)"
   ]
  },
  {
   "cell_type": "markdown",
   "id": "9a3ea8f2",
   "metadata": {},
   "source": [
    "# Summary"
   ]
  },
  {
   "attachments": {
    "Summary1.png": {
     "image/png": "[encoded data removed]"
    }
   },
   "cell_type": "markdown",
   "id": "396b828e",
   "metadata": {},
   "source": [
    "![Summary1.png](attachment:Summary1.png)"
   ]
  },
  {
   "cell_type": "markdown",
   "id": "15cc05cd",
   "metadata": {},
   "source": [
    "From above, it is clear that Logistic Regression with TFIDF has the highest accuracy, so let's select this for further classification"
   ]
  },
  {
   "cell_type": "markdown",
   "id": "c8fecfab",
   "metadata": {},
   "source": [
    "# Confusion Matrix for LR- TFIDF"
   ]
  },
  {
   "cell_type": "code",
   "execution_count": 26,
   "id": "9cf3232a",
   "metadata": {},
   "outputs": [
    {
     "name": "stdout",
     "output_type": "stream",
     "text": [
      "              precision    recall  f1-score   support\n",
      "\n",
      "           0       0.49      0.54      0.51       270\n",
      "           1       0.62      0.63      0.63       266\n",
      "           2       0.71      0.68      0.70       269\n",
      "           3       0.49      0.44      0.46       262\n",
      "           5       0.69      0.66      0.68       271\n",
      "           6       0.48      0.51      0.49       268\n",
      "\n",
      "    accuracy                           0.58      1606\n",
      "   macro avg       0.58      0.58      0.58      1606\n",
      "weighted avg       0.58      0.58      0.58      1606\n",
      "\n",
      "\n"
     ]
    }
   ],
   "source": [
    "classifier= linear_model.LogisticRegression().fit(tv_xtrain, Ytrain)\n",
    "value_predictions= classifier.predict(tv_xtest)\n",
    "\n",
    "y_true, y_pred= Ytest, value_predictions\n",
    "print(classification_report(y_true, y_pred))\n",
    "print()"
   ]
  },
  {
   "cell_type": "code",
   "execution_count": 27,
   "id": "4a4ad2c9",
   "metadata": {},
   "outputs": [],
   "source": [
    "tweet= pd.read_csv('fifaTweets.csv')"
   ]
  },
  {
   "cell_type": "code",
   "execution_count": 28,
   "id": "16f8a568",
   "metadata": {},
   "outputs": [
    {
     "data": {
      "text/html": [
       "<div>\n",
       "<style scoped>\n",
       "    .dataframe tbody tr th:only-of-type {\n",
       "        vertical-align: middle;\n",
       "    }\n",
       "\n",
       "    .dataframe tbody tr th {\n",
       "        vertical-align: top;\n",
       "    }\n",
       "\n",
       "    .dataframe thead th {\n",
       "        text-align: right;\n",
       "    }\n",
       "</style>\n",
       "<table border=\"1\" class=\"dataframe\">\n",
       "  <thead>\n",
       "    <tr style=\"text-align: right;\">\n",
       "      <th></th>\n",
       "      <th>Unnamed: 0</th>\n",
       "      <th>text</th>\n",
       "      <th>date</th>\n",
       "    </tr>\n",
       "  </thead>\n",
       "  <tbody>\n",
       "    <tr>\n",
       "      <th>0</th>\n",
       "      <td>0</td>\n",
       "      <td>no bro messi is the best bcz he won fifa the b...</td>\n",
       "      <td>Jan 18, 2024 · 10:53 PM UTC</td>\n",
       "    </tr>\n",
       "    <tr>\n",
       "      <th>1</th>\n",
       "      <td>1</td>\n",
       "      <td>• Flopped at PSG ❌ • Knocked out of French Cup...</td>\n",
       "      <td>Jan 16, 2024 · 6:58 PM UTC</td>\n",
       "    </tr>\n",
       "    <tr>\n",
       "      <th>2</th>\n",
       "      <td>2</td>\n",
       "      <td>🤣🤣🤣🤣but fifa the best and bdor are not?🤣🤣…. Cl...</td>\n",
       "      <td>Jan 18, 2024 · 10:49 PM UTC</td>\n",
       "    </tr>\n",
       "    <tr>\n",
       "      <th>3</th>\n",
       "      <td>3</td>\n",
       "      <td>Reasons why Messi didn’t go to the FIFA The Be...</td>\n",
       "      <td>Jan 15, 2024 · 9:31 PM UTC</td>\n",
       "    </tr>\n",
       "    <tr>\n",
       "      <th>4</th>\n",
       "      <td>4</td>\n",
       "      <td>Le premier et le seul joueur hors d’Europe à a...</td>\n",
       "      <td>Jan 17, 2024 · 11:05 PM UTC</td>\n",
       "    </tr>\n",
       "  </tbody>\n",
       "</table>\n",
       "</div>"
      ],
      "text/plain": [
       "   Unnamed: 0                                               text  \\\n",
       "0           0  no bro messi is the best bcz he won fifa the b...   \n",
       "1           1  • Flopped at PSG ❌ • Knocked out of French Cup...   \n",
       "2           2  🤣🤣🤣🤣but fifa the best and bdor are not?🤣🤣…. Cl...   \n",
       "3           3  Reasons why Messi didn’t go to the FIFA The Be...   \n",
       "4           4  Le premier et le seul joueur hors d’Europe à a...   \n",
       "\n",
       "                          date  \n",
       "0  Jan 18, 2024 · 10:53 PM UTC  \n",
       "1   Jan 16, 2024 · 6:58 PM UTC  \n",
       "2  Jan 18, 2024 · 10:49 PM UTC  \n",
       "3   Jan 15, 2024 · 9:31 PM UTC  \n",
       "4  Jan 17, 2024 · 11:05 PM UTC  "
      ]
     },
     "execution_count": 28,
     "metadata": {},
     "output_type": "execute_result"
    }
   ],
   "source": [
    "tweet.head()"
   ]
  },
  {
   "cell_type": "code",
   "execution_count": 31,
   "id": "ae56ce82",
   "metadata": {},
   "outputs": [],
   "source": [
    "tweet= tweet[['text', 'date']] #Removing unwanted column unnamed: 0"
   ]
  },
  {
   "cell_type": "code",
   "execution_count": 32,
   "id": "b0ec2cd3",
   "metadata": {},
   "outputs": [
    {
     "data": {
      "text/html": [
       "<div>\n",
       "<style scoped>\n",
       "    .dataframe tbody tr th:only-of-type {\n",
       "        vertical-align: middle;\n",
       "    }\n",
       "\n",
       "    .dataframe tbody tr th {\n",
       "        vertical-align: top;\n",
       "    }\n",
       "\n",
       "    .dataframe thead th {\n",
       "        text-align: right;\n",
       "    }\n",
       "</style>\n",
       "<table border=\"1\" class=\"dataframe\">\n",
       "  <thead>\n",
       "    <tr style=\"text-align: right;\">\n",
       "      <th></th>\n",
       "      <th>text</th>\n",
       "      <th>date</th>\n",
       "    </tr>\n",
       "  </thead>\n",
       "  <tbody>\n",
       "    <tr>\n",
       "      <th>0</th>\n",
       "      <td>no bro messi is the best bcz he won fifa the b...</td>\n",
       "      <td>Jan 18, 2024 · 10:53 PM UTC</td>\n",
       "    </tr>\n",
       "    <tr>\n",
       "      <th>1</th>\n",
       "      <td>• Flopped at PSG ❌ • Knocked out of French Cup...</td>\n",
       "      <td>Jan 16, 2024 · 6:58 PM UTC</td>\n",
       "    </tr>\n",
       "    <tr>\n",
       "      <th>2</th>\n",
       "      <td>🤣🤣🤣🤣but fifa the best and bdor are not?🤣🤣…. Cl...</td>\n",
       "      <td>Jan 18, 2024 · 10:49 PM UTC</td>\n",
       "    </tr>\n",
       "    <tr>\n",
       "      <th>3</th>\n",
       "      <td>Reasons why Messi didn’t go to the FIFA The Be...</td>\n",
       "      <td>Jan 15, 2024 · 9:31 PM UTC</td>\n",
       "    </tr>\n",
       "    <tr>\n",
       "      <th>4</th>\n",
       "      <td>Le premier et le seul joueur hors d’Europe à a...</td>\n",
       "      <td>Jan 17, 2024 · 11:05 PM UTC</td>\n",
       "    </tr>\n",
       "    <tr>\n",
       "      <th>...</th>\n",
       "      <td>...</td>\n",
       "      <td>...</td>\n",
       "    </tr>\n",
       "    <tr>\n",
       "      <th>995</th>\n",
       "      <td>Lionel Messi G.O.A.T  🐐   ⭐️ Most Ballon d'Or ...</td>\n",
       "      <td>Jan 15, 2024 · 10:27 PM UTC</td>\n",
       "    </tr>\n",
       "    <tr>\n",
       "      <th>996</th>\n",
       "      <td>💥 Neymar says he did not vote for anyone in th...</td>\n",
       "      <td>Jan 17, 2024 · 9:09 AM UTC</td>\n",
       "    </tr>\n",
       "    <tr>\n",
       "      <th>997</th>\n",
       "      <td>What Ballondor 8, What FIFA The Best 8 🥶🥶  The...</td>\n",
       "      <td>Jan 16, 2024 · 9:47 AM UTC</td>\n",
       "    </tr>\n",
       "    <tr>\n",
       "      <th>998</th>\n",
       "      <td>𝟭𝟬 𝗦𝗘𝗣𝗧𝗘𝗠𝗕𝗘𝗥 𝟐𝟎𝟐𝟑 I had a convo with BASSEM re...</td>\n",
       "      <td>Jan 17, 2024 · 8:49 AM UTC</td>\n",
       "    </tr>\n",
       "    <tr>\n",
       "      <th>999</th>\n",
       "      <td>The record says Messi has 8 FIFA the best and ...</td>\n",
       "      <td>Jan 17, 2024 · 9:04 AM UTC</td>\n",
       "    </tr>\n",
       "  </tbody>\n",
       "</table>\n",
       "<p>1000 rows × 2 columns</p>\n",
       "</div>"
      ],
      "text/plain": [
       "                                                  text  \\\n",
       "0    no bro messi is the best bcz he won fifa the b...   \n",
       "1    • Flopped at PSG ❌ • Knocked out of French Cup...   \n",
       "2    🤣🤣🤣🤣but fifa the best and bdor are not?🤣🤣…. Cl...   \n",
       "3    Reasons why Messi didn’t go to the FIFA The Be...   \n",
       "4    Le premier et le seul joueur hors d’Europe à a...   \n",
       "..                                                 ...   \n",
       "995  Lionel Messi G.O.A.T  🐐   ⭐️ Most Ballon d'Or ...   \n",
       "996  💥 Neymar says he did not vote for anyone in th...   \n",
       "997  What Ballondor 8, What FIFA The Best 8 🥶🥶  The...   \n",
       "998  𝟭𝟬 𝗦𝗘𝗣𝗧𝗘𝗠𝗕𝗘𝗥 𝟐𝟎𝟐𝟑 I had a convo with BASSEM re...   \n",
       "999  The record says Messi has 8 FIFA the best and ...   \n",
       "\n",
       "                            date  \n",
       "0    Jan 18, 2024 · 10:53 PM UTC  \n",
       "1     Jan 16, 2024 · 6:58 PM UTC  \n",
       "2    Jan 18, 2024 · 10:49 PM UTC  \n",
       "3     Jan 15, 2024 · 9:31 PM UTC  \n",
       "4    Jan 17, 2024 · 11:05 PM UTC  \n",
       "..                           ...  \n",
       "995  Jan 15, 2024 · 10:27 PM UTC  \n",
       "996   Jan 17, 2024 · 9:09 AM UTC  \n",
       "997   Jan 16, 2024 · 9:47 AM UTC  \n",
       "998   Jan 17, 2024 · 8:49 AM UTC  \n",
       "999   Jan 17, 2024 · 9:04 AM UTC  \n",
       "\n",
       "[1000 rows x 2 columns]"
      ]
     },
     "execution_count": 32,
     "metadata": {},
     "output_type": "execute_result"
    }
   ],
   "source": [
    "tweet"
   ]
  },
  {
   "cell_type": "code",
   "execution_count": 34,
   "id": "576998d5",
   "metadata": {},
   "outputs": [],
   "source": [
    "#Removing digits from the column of Text\n",
    "tweet['text']= tweet['text'].str.lstrip('0123456789')"
   ]
  },
  {
   "cell_type": "code",
   "execution_count": 38,
   "id": "b1d904ab",
   "metadata": {},
   "outputs": [],
   "source": [
    "#Lowercasing: \n",
    "tweet['text']= tweet['text'].apply(lambda a: \" \".join(a.lower() for a in a.split()))"
   ]
  },
  {
   "cell_type": "code",
   "execution_count": 39,
   "id": "c7a991f7",
   "metadata": {},
   "outputs": [
    {
     "name": "stderr",
     "output_type": "stream",
     "text": [
      "C:\\Users\\user\\AppData\\Local\\Temp\\ipykernel_12292\\2104329875.py:2: FutureWarning: The default value of regex will change from True to False in a future version.\n",
      "  tweet['text']= tweet['text'].str.replace('[^\\w\\s]', '')\n"
     ]
    }
   ],
   "source": [
    "#removing punctuation\n",
    "tweet['text']= tweet['text'].str.replace('[^\\w\\s]', '')"
   ]
  },
  {
   "cell_type": "code",
   "execution_count": 42,
   "id": "e74f5d33",
   "metadata": {},
   "outputs": [],
   "source": [
    "#removing stopwords\n",
    "sw= stopwords.words('english')\n",
    "tweet['text']= tweet['text'].apply(lambda a: \" \".join(a for a in a.split() if a not in sw))"
   ]
  },
  {
   "cell_type": "code",
   "execution_count": 45,
   "id": "d7be93ce",
   "metadata": {},
   "outputs": [
    {
     "data": {
      "text/html": [
       "<div>\n",
       "<style scoped>\n",
       "    .dataframe tbody tr th:only-of-type {\n",
       "        vertical-align: middle;\n",
       "    }\n",
       "\n",
       "    .dataframe tbody tr th {\n",
       "        vertical-align: top;\n",
       "    }\n",
       "\n",
       "    .dataframe thead th {\n",
       "        text-align: right;\n",
       "    }\n",
       "</style>\n",
       "<table border=\"1\" class=\"dataframe\">\n",
       "  <thead>\n",
       "    <tr style=\"text-align: right;\">\n",
       "      <th></th>\n",
       "      <th>text</th>\n",
       "      <th>date</th>\n",
       "    </tr>\n",
       "  </thead>\n",
       "  <tbody>\n",
       "    <tr>\n",
       "      <th>995</th>\n",
       "      <td>lionel messi goat ballon dor awards 8 fifa bes...</td>\n",
       "      <td>Jan 15, 2024 · 10:27 PM UTC</td>\n",
       "    </tr>\n",
       "    <tr>\n",
       "      <th>996</th>\n",
       "      <td>neymar says vote anyone fifa best awards messi...</td>\n",
       "      <td>Jan 17, 2024 · 9:09 AM UTC</td>\n",
       "    </tr>\n",
       "    <tr>\n",
       "      <th>997</th>\n",
       "      <td>ballondor 8 fifa best 8 8 idolo knows</td>\n",
       "      <td>Jan 16, 2024 · 9:47 AM UTC</td>\n",
       "    </tr>\n",
       "    <tr>\n",
       "      <th>998</th>\n",
       "      <td>𝟭𝟬 𝗦𝗘𝗣𝗧𝗘𝗠𝗕𝗘𝗥 𝟐𝟎𝟐𝟑 convo bassem regarding fifa ...</td>\n",
       "      <td>Jan 17, 2024 · 8:49 AM UTC</td>\n",
       "    </tr>\n",
       "    <tr>\n",
       "      <th>999</th>\n",
       "      <td>record says messi 8 fifa best certain twitter ...</td>\n",
       "      <td>Jan 17, 2024 · 9:04 AM UTC</td>\n",
       "    </tr>\n",
       "  </tbody>\n",
       "</table>\n",
       "</div>"
      ],
      "text/plain": [
       "                                                  text  \\\n",
       "995  lionel messi goat ballon dor awards 8 fifa bes...   \n",
       "996  neymar says vote anyone fifa best awards messi...   \n",
       "997              ballondor 8 fifa best 8 8 idolo knows   \n",
       "998  𝟭𝟬 𝗦𝗘𝗣𝗧𝗘𝗠𝗕𝗘𝗥 𝟐𝟎𝟐𝟑 convo bassem regarding fifa ...   \n",
       "999  record says messi 8 fifa best certain twitter ...   \n",
       "\n",
       "                            date  \n",
       "995  Jan 15, 2024 · 10:27 PM UTC  \n",
       "996   Jan 17, 2024 · 9:09 AM UTC  \n",
       "997   Jan 16, 2024 · 9:47 AM UTC  \n",
       "998   Jan 17, 2024 · 8:49 AM UTC  \n",
       "999   Jan 17, 2024 · 9:04 AM UTC  "
      ]
     },
     "execution_count": 45,
     "metadata": {},
     "output_type": "execute_result"
    }
   ],
   "source": [
    "tweet.tail()"
   ]
  },
  {
   "cell_type": "markdown",
   "id": "5ed0d530",
   "metadata": {},
   "source": [
    "## Predicting the emotions using trained model"
   ]
  },
  {
   "cell_type": "code",
   "execution_count": 49,
   "id": "033bd035",
   "metadata": {},
   "outputs": [],
   "source": [
    "Xpredict= tweet['text']\n",
    "#TF-IDF\n",
    "predict_tfidf= tv.transform(Xpredict)\n",
    "tweet['Emotion']= classifier.predict(predict_tfidf)\n"
   ]
  },
  {
   "cell_type": "code",
   "execution_count": 51,
   "id": "9cfe8605",
   "metadata": {},
   "outputs": [
    {
     "data": {
      "text/html": [
       "<div>\n",
       "<style scoped>\n",
       "    .dataframe tbody tr th:only-of-type {\n",
       "        vertical-align: middle;\n",
       "    }\n",
       "\n",
       "    .dataframe tbody tr th {\n",
       "        vertical-align: top;\n",
       "    }\n",
       "\n",
       "    .dataframe thead th {\n",
       "        text-align: right;\n",
       "    }\n",
       "</style>\n",
       "<table border=\"1\" class=\"dataframe\">\n",
       "  <thead>\n",
       "    <tr style=\"text-align: right;\">\n",
       "      <th></th>\n",
       "      <th>text</th>\n",
       "      <th>date</th>\n",
       "      <th>Emotion</th>\n",
       "    </tr>\n",
       "  </thead>\n",
       "  <tbody>\n",
       "    <tr>\n",
       "      <th>995</th>\n",
       "      <td>lionel messi goat ballon dor awards 8 fifa bes...</td>\n",
       "      <td>Jan 15, 2024 · 10:27 PM UTC</td>\n",
       "      <td>1</td>\n",
       "    </tr>\n",
       "    <tr>\n",
       "      <th>996</th>\n",
       "      <td>neymar says vote anyone fifa best awards messi...</td>\n",
       "      <td>Jan 17, 2024 · 9:09 AM UTC</td>\n",
       "      <td>1</td>\n",
       "    </tr>\n",
       "    <tr>\n",
       "      <th>997</th>\n",
       "      <td>ballondor 8 fifa best 8 8 idolo knows</td>\n",
       "      <td>Jan 16, 2024 · 9:47 AM UTC</td>\n",
       "      <td>1</td>\n",
       "    </tr>\n",
       "    <tr>\n",
       "      <th>998</th>\n",
       "      <td>𝟭𝟬 𝗦𝗘𝗣𝗧𝗘𝗠𝗕𝗘𝗥 𝟐𝟎𝟐𝟑 convo bassem regarding fifa ...</td>\n",
       "      <td>Jan 17, 2024 · 8:49 AM UTC</td>\n",
       "      <td>0</td>\n",
       "    </tr>\n",
       "    <tr>\n",
       "      <th>999</th>\n",
       "      <td>record says messi 8 fifa best certain twitter ...</td>\n",
       "      <td>Jan 17, 2024 · 9:04 AM UTC</td>\n",
       "      <td>0</td>\n",
       "    </tr>\n",
       "  </tbody>\n",
       "</table>\n",
       "</div>"
      ],
      "text/plain": [
       "                                                  text  \\\n",
       "995  lionel messi goat ballon dor awards 8 fifa bes...   \n",
       "996  neymar says vote anyone fifa best awards messi...   \n",
       "997              ballondor 8 fifa best 8 8 idolo knows   \n",
       "998  𝟭𝟬 𝗦𝗘𝗣𝗧𝗘𝗠𝗕𝗘𝗥 𝟐𝟎𝟐𝟑 convo bassem regarding fifa ...   \n",
       "999  record says messi 8 fifa best certain twitter ...   \n",
       "\n",
       "                            date  Emotion  \n",
       "995  Jan 15, 2024 · 10:27 PM UTC        1  \n",
       "996   Jan 17, 2024 · 9:09 AM UTC        1  \n",
       "997   Jan 16, 2024 · 9:47 AM UTC        1  \n",
       "998   Jan 17, 2024 · 8:49 AM UTC        0  \n",
       "999   Jan 17, 2024 · 9:04 AM UTC        0  "
      ]
     },
     "execution_count": 51,
     "metadata": {},
     "output_type": "execute_result"
    }
   ],
   "source": [
    "tweet.tail()"
   ]
  },
  {
   "cell_type": "markdown",
   "id": "a32afda6",
   "metadata": {},
   "source": [
    "## Prediction using pre-trained model"
   ]
  },
  {
   "cell_type": "code",
   "execution_count": 53,
   "id": "c10d664f",
   "metadata": {},
   "outputs": [],
   "source": [
    "tweet['sentiment']= tweet['text'].apply(lambda a: TextBlob(a).sentiment[0])\n",
    "def function(value):\n",
    "    if value['sentiment']<0:\n",
    "        return 'Negative'\n",
    "    if value['sentiment']>0:\n",
    "        return 'Positive'\n",
    "    return 'Neutral'\n",
    "\n",
    "tweet['Sentiment_label']= tweet.apply(lambda a: function(a), axis= 1)"
   ]
  },
  {
   "cell_type": "code",
   "execution_count": 56,
   "id": "88c5745f",
   "metadata": {},
   "outputs": [
    {
     "data": {
      "text/html": [
       "<div>\n",
       "<style scoped>\n",
       "    .dataframe tbody tr th:only-of-type {\n",
       "        vertical-align: middle;\n",
       "    }\n",
       "\n",
       "    .dataframe tbody tr th {\n",
       "        vertical-align: top;\n",
       "    }\n",
       "\n",
       "    .dataframe thead th {\n",
       "        text-align: right;\n",
       "    }\n",
       "</style>\n",
       "<table border=\"1\" class=\"dataframe\">\n",
       "  <thead>\n",
       "    <tr style=\"text-align: right;\">\n",
       "      <th></th>\n",
       "      <th>text</th>\n",
       "      <th>date</th>\n",
       "      <th>Emotion</th>\n",
       "      <th>sentiment</th>\n",
       "      <th>Sentiment_label</th>\n",
       "    </tr>\n",
       "  </thead>\n",
       "  <tbody>\n",
       "    <tr>\n",
       "      <th>0</th>\n",
       "      <td>bro messi best bcz fifa best award</td>\n",
       "      <td>Jan 18, 2024 · 10:53 PM UTC</td>\n",
       "      <td>1</td>\n",
       "      <td>1.000000</td>\n",
       "      <td>Positive</td>\n",
       "    </tr>\n",
       "    <tr>\n",
       "      <th>1</th>\n",
       "      <td>flopped psg knocked french cup ghosted bayern ...</td>\n",
       "      <td>Jan 16, 2024 · 6:58 PM UTC</td>\n",
       "      <td>5</td>\n",
       "      <td>0.250000</td>\n",
       "      <td>Positive</td>\n",
       "    </tr>\n",
       "    <tr>\n",
       "      <th>2</th>\n",
       "      <td>fifa best bdor clown</td>\n",
       "      <td>Jan 18, 2024 · 10:49 PM UTC</td>\n",
       "      <td>1</td>\n",
       "      <td>1.000000</td>\n",
       "      <td>Positive</td>\n",
       "    </tr>\n",
       "    <tr>\n",
       "      <th>3</th>\n",
       "      <td>reasons messi didnt go fifa best ceremony mess...</td>\n",
       "      <td>Jan 15, 2024 · 9:31 PM UTC</td>\n",
       "      <td>5</td>\n",
       "      <td>0.181970</td>\n",
       "      <td>Positive</td>\n",
       "    </tr>\n",
       "    <tr>\n",
       "      <th>4</th>\n",
       "      <td>le premier et le seul joueur hors deurope à av...</td>\n",
       "      <td>Jan 17, 2024 · 11:05 PM UTC</td>\n",
       "      <td>5</td>\n",
       "      <td>1.000000</td>\n",
       "      <td>Positive</td>\n",
       "    </tr>\n",
       "    <tr>\n",
       "      <th>5</th>\n",
       "      <td>ga history 1065 collective trophies ballon dor...</td>\n",
       "      <td>Jan 15, 2024 · 10:49 PM UTC</td>\n",
       "      <td>1</td>\n",
       "      <td>0.433333</td>\n",
       "      <td>Positive</td>\n",
       "    </tr>\n",
       "    <tr>\n",
       "      <th>6</th>\n",
       "      <td>ederson ake puyol dias dani rodri kdb iniesta ...</td>\n",
       "      <td>Jan 18, 2024 · 10:37 PM UTC</td>\n",
       "      <td>5</td>\n",
       "      <td>0.466667</td>\n",
       "      <td>Positive</td>\n",
       "    </tr>\n",
       "    <tr>\n",
       "      <th>7</th>\n",
       "      <td>messi still hasnt posted anything fifa best in...</td>\n",
       "      <td>Jan 17, 2024 · 10:29 PM UTC</td>\n",
       "      <td>0</td>\n",
       "      <td>0.366667</td>\n",
       "      <td>Positive</td>\n",
       "    </tr>\n",
       "    <tr>\n",
       "      <th>8</th>\n",
       "      <td>3 days since messi fifa best award hasnt even ...</td>\n",
       "      <td>Jan 18, 2024 · 2:38 PM UTC</td>\n",
       "      <td>5</td>\n",
       "      <td>0.350000</td>\n",
       "      <td>Positive</td>\n",
       "    </tr>\n",
       "    <tr>\n",
       "      <th>9</th>\n",
       "      <td>factos fc celebrating years ago saying messi w...</td>\n",
       "      <td>Jan 18, 2024 · 5:09 PM UTC</td>\n",
       "      <td>5</td>\n",
       "      <td>0.525000</td>\n",
       "      <td>Positive</td>\n",
       "    </tr>\n",
       "    <tr>\n",
       "      <th>10</th>\n",
       "      <td>whats painful messi based national team captai...</td>\n",
       "      <td>Jan 18, 2024 · 10:20 PM UTC</td>\n",
       "      <td>0</td>\n",
       "      <td>0.137500</td>\n",
       "      <td>Positive</td>\n",
       "    </tr>\n",
       "    <tr>\n",
       "      <th>11</th>\n",
       "      <td>bro fifa best hasnt posted dont think messi re...</td>\n",
       "      <td>Jan 17, 2024 · 7:22 PM UTC</td>\n",
       "      <td>5</td>\n",
       "      <td>1.000000</td>\n",
       "      <td>Positive</td>\n",
       "    </tr>\n",
       "    <tr>\n",
       "      <th>12</th>\n",
       "      <td>osimehn wins man match messi wins fifa best no...</td>\n",
       "      <td>Jan 18, 2024 · 10:10 PM UTC</td>\n",
       "      <td>1</td>\n",
       "      <td>0.533333</td>\n",
       "      <td>Positive</td>\n",
       "    </tr>\n",
       "    <tr>\n",
       "      <th>13</th>\n",
       "      <td>robbing likes sneijder lewandowski haaland bal...</td>\n",
       "      <td>Jan 16, 2024 · 2:21 PM UTC</td>\n",
       "      <td>6</td>\n",
       "      <td>0.166667</td>\n",
       "      <td>Positive</td>\n",
       "    </tr>\n",
       "    <tr>\n",
       "      <th>14</th>\n",
       "      <td>ahap abu sauki tunda yayi rigging world cup ba...</td>\n",
       "      <td>Jan 18, 2024 · 10:07 PM UTC</td>\n",
       "      <td>1</td>\n",
       "      <td>1.000000</td>\n",
       "      <td>Positive</td>\n",
       "    </tr>\n",
       "    <tr>\n",
       "      <th>15</th>\n",
       "      <td>fifa best 2022 lionel messi motif coupe du mon...</td>\n",
       "      <td>Jan 16, 2024 · 1:04 AM UTC</td>\n",
       "      <td>1</td>\n",
       "      <td>1.000000</td>\n",
       "      <td>Positive</td>\n",
       "    </tr>\n",
       "    <tr>\n",
       "      <th>16</th>\n",
       "      <td>balloon dors 8 fifa best poty 8 fifa fifpro xi...</td>\n",
       "      <td>Jan 15, 2024 · 10:02 PM UTC</td>\n",
       "      <td>1</td>\n",
       "      <td>0.650000</td>\n",
       "      <td>Positive</td>\n",
       "    </tr>\n",
       "    <tr>\n",
       "      <th>17</th>\n",
       "      <td>lionel messi 2023 45 games 29 goals 12 assists...</td>\n",
       "      <td>Jan 17, 2024 · 5:01 AM UTC</td>\n",
       "      <td>0</td>\n",
       "      <td>0.700000</td>\n",
       "      <td>Positive</td>\n",
       "    </tr>\n",
       "    <tr>\n",
       "      <th>18</th>\n",
       "      <td>srał nie płakał ballon dor należy gazety fifa ...</td>\n",
       "      <td>Jan 18, 2024 · 9:51 PM UTC</td>\n",
       "      <td>1</td>\n",
       "      <td>1.000000</td>\n",
       "      <td>Positive</td>\n",
       "    </tr>\n",
       "    <tr>\n",
       "      <th>19</th>\n",
       "      <td>lionel messi since turning 30 256 goals 130 as...</td>\n",
       "      <td>Jan 17, 2024 · 4:19 AM UTC</td>\n",
       "      <td>1</td>\n",
       "      <td>0.380000</td>\n",
       "      <td>Positive</td>\n",
       "    </tr>\n",
       "    <tr>\n",
       "      <th>20</th>\n",
       "      <td>le premier et le seul joueur hors deurope à av...</td>\n",
       "      <td>Jan 18, 2024 · 11:34 AM UTC</td>\n",
       "      <td>5</td>\n",
       "      <td>1.000000</td>\n",
       "      <td>Positive</td>\n",
       "    </tr>\n",
       "    <tr>\n",
       "      <th>21</th>\n",
       "      <td>feel theyre still acknowledging fact messi gre...</td>\n",
       "      <td>Jan 18, 2024 · 9:48 PM UTC</td>\n",
       "      <td>0</td>\n",
       "      <td>0.533333</td>\n",
       "      <td>Positive</td>\n",
       "    </tr>\n",
       "    <tr>\n",
       "      <th>22</th>\n",
       "      <td>messi fans explaining messi deserves fifa best...</td>\n",
       "      <td>Jan 18, 2024 · 10:41 AM UTC</td>\n",
       "      <td>1</td>\n",
       "      <td>1.000000</td>\n",
       "      <td>Positive</td>\n",
       "    </tr>\n",
       "    <tr>\n",
       "      <th>23</th>\n",
       "      <td>lying embarrassing point messi fan mikel obi c...</td>\n",
       "      <td>Jan 17, 2024 · 9:25 AM UTC</td>\n",
       "      <td>0</td>\n",
       "      <td>0.464286</td>\n",
       "      <td>Positive</td>\n",
       "    </tr>\n",
       "    <tr>\n",
       "      <th>24</th>\n",
       "      <td>messi deserved fifa best 2023 haaland cause co...</td>\n",
       "      <td>Jan 17, 2024 · 5:18 AM UTC</td>\n",
       "      <td>1</td>\n",
       "      <td>0.900000</td>\n",
       "      <td>Positive</td>\n",
       "    </tr>\n",
       "    <tr>\n",
       "      <th>25</th>\n",
       "      <td>cant even give valid reason messi fifa best th...</td>\n",
       "      <td>Jan 16, 2024 · 9:52 PM UTC</td>\n",
       "      <td>1</td>\n",
       "      <td>1.000000</td>\n",
       "      <td>Positive</td>\n",
       "    </tr>\n",
       "    <tr>\n",
       "      <th>26</th>\n",
       "      <td>cela fait presque 2 jours depuis quil remporté...</td>\n",
       "      <td>Jan 17, 2024 · 8:37 PM UTC</td>\n",
       "      <td>1</td>\n",
       "      <td>1.000000</td>\n",
       "      <td>Positive</td>\n",
       "    </tr>\n",
       "    <tr>\n",
       "      <th>27</th>\n",
       "      <td>another one calls wc rigged cant explain howfi...</td>\n",
       "      <td>Jan 18, 2024 · 9:16 PM UTC</td>\n",
       "      <td>1</td>\n",
       "      <td>0.675000</td>\n",
       "      <td>Positive</td>\n",
       "    </tr>\n",
       "    <tr>\n",
       "      <th>28</th>\n",
       "      <td>watch rioferdy5 joelbeya mrstephenhowson rank ...</td>\n",
       "      <td>Jan 18, 2024 · 9:14 PM UTC</td>\n",
       "      <td>6</td>\n",
       "      <td>-0.012500</td>\n",
       "      <td>Negative</td>\n",
       "    </tr>\n",
       "    <tr>\n",
       "      <th>29</th>\n",
       "      <td>penaldo treble las vegas factos instagram 500m...</td>\n",
       "      <td>Jan 18, 2024 · 9:03 PM UTC</td>\n",
       "      <td>1</td>\n",
       "      <td>1.000000</td>\n",
       "      <td>Positive</td>\n",
       "    </tr>\n",
       "    <tr>\n",
       "      <th>30</th>\n",
       "      <td>theyre calling fifa best rigged messi thought ...</td>\n",
       "      <td>Jan 15, 2024 · 9:06 PM UTC</td>\n",
       "      <td>0</td>\n",
       "      <td>-0.040000</td>\n",
       "      <td>Negative</td>\n",
       "    </tr>\n",
       "    <tr>\n",
       "      <th>31</th>\n",
       "      <td>trophy 2 fifa best 1 ballon dor go respect wor...</td>\n",
       "      <td>Jan 15, 2024 · 9:43 PM UTC</td>\n",
       "      <td>1</td>\n",
       "      <td>1.000000</td>\n",
       "      <td>Positive</td>\n",
       "    </tr>\n",
       "    <tr>\n",
       "      <th>32</th>\n",
       "      <td>ballon dors 8 fifa best greatest sportsman eve...</td>\n",
       "      <td>Jan 15, 2024 · 8:58 PM UTC</td>\n",
       "      <td>1</td>\n",
       "      <td>0.712121</td>\n",
       "      <td>Positive</td>\n",
       "    </tr>\n",
       "    <tr>\n",
       "      <th>33</th>\n",
       "      <td>messi fifa best 2064</td>\n",
       "      <td>Jan 17, 2024 · 8:23 PM UTC</td>\n",
       "      <td>1</td>\n",
       "      <td>1.000000</td>\n",
       "      <td>Positive</td>\n",
       "    </tr>\n",
       "    <tr>\n",
       "      <th>34</th>\n",
       "      <td>pessi fans please explain tf fifa best award</td>\n",
       "      <td>Jan 18, 2024 · 8:48 PM UTC</td>\n",
       "      <td>1</td>\n",
       "      <td>1.000000</td>\n",
       "      <td>Positive</td>\n",
       "    </tr>\n",
       "    <tr>\n",
       "      <th>35</th>\n",
       "      <td>victor osimhen man match doubt good game serio...</td>\n",
       "      <td>Jan 18, 2024 · 8:36 PM UTC</td>\n",
       "      <td>1</td>\n",
       "      <td>0.241667</td>\n",
       "      <td>Positive</td>\n",
       "    </tr>\n",
       "    <tr>\n",
       "      <th>36</th>\n",
       "      <td>podcast new episode rambling runoff robert dan...</td>\n",
       "      <td>Jan 18, 2024 · 8:40 PM UTC</td>\n",
       "      <td>0</td>\n",
       "      <td>0.092424</td>\n",
       "      <td>Positive</td>\n",
       "    </tr>\n",
       "    <tr>\n",
       "      <th>37</th>\n",
       "      <td>shameless thing ive ever seen wheres carlos ve...</td>\n",
       "      <td>Jan 18, 2024 · 8:38 PM UTC</td>\n",
       "      <td>0</td>\n",
       "      <td>1.000000</td>\n",
       "      <td>Positive</td>\n",
       "    </tr>\n",
       "    <tr>\n",
       "      <th>38</th>\n",
       "      <td>soccer fifacom dévoilé pour qui les capitaines...</td>\n",
       "      <td>Jan 18, 2024 · 8:29 PM UTC</td>\n",
       "      <td>0</td>\n",
       "      <td>0.000000</td>\n",
       "      <td>Neutral</td>\n",
       "    </tr>\n",
       "    <tr>\n",
       "      <th>39</th>\n",
       "      <td>soccer fifacom dévoilé pour qui les capitaines...</td>\n",
       "      <td>Jan 18, 2024 · 8:24 PM UTC</td>\n",
       "      <td>0</td>\n",
       "      <td>0.000000</td>\n",
       "      <td>Neutral</td>\n",
       "    </tr>\n",
       "    <tr>\n",
       "      <th>40</th>\n",
       "      <td>canwntsoccer fifacom dévoilé pour qui les capi...</td>\n",
       "      <td>Jan 18, 2024 · 8:22 PM UTC</td>\n",
       "      <td>3</td>\n",
       "      <td>0.000000</td>\n",
       "      <td>Neutral</td>\n",
       "    </tr>\n",
       "    <tr>\n",
       "      <th>41</th>\n",
       "      <td>tell fraud hazard deserves fifa best pendu</td>\n",
       "      <td>Jan 18, 2024 · 8:16 PM UTC</td>\n",
       "      <td>1</td>\n",
       "      <td>1.000000</td>\n",
       "      <td>Positive</td>\n",
       "    </tr>\n",
       "    <tr>\n",
       "      <th>42</th>\n",
       "      <td>soccer fifacom dévoilé pour qui les capitaines...</td>\n",
       "      <td>Jan 18, 2024 · 8:15 PM UTC</td>\n",
       "      <td>3</td>\n",
       "      <td>0.000000</td>\n",
       "      <td>Neutral</td>\n",
       "    </tr>\n",
       "    <tr>\n",
       "      <th>43</th>\n",
       "      <td>felicidades por ganar el fifa best muchos dice...</td>\n",
       "      <td>Jan 18, 2024 · 8:11 PM UTC</td>\n",
       "      <td>1</td>\n",
       "      <td>1.000000</td>\n",
       "      <td>Positive</td>\n",
       "    </tr>\n",
       "    <tr>\n",
       "      <th>44</th>\n",
       "      <td>soccer fifacom dévoilé pour qui les capitaines...</td>\n",
       "      <td>Jan 18, 2024 · 8:09 PM UTC</td>\n",
       "      <td>3</td>\n",
       "      <td>0.000000</td>\n",
       "      <td>Neutral</td>\n",
       "    </tr>\n",
       "    <tr>\n",
       "      <th>45</th>\n",
       "      <td>even modric valverde portugal coach voted leo ...</td>\n",
       "      <td>Jan 16, 2024 · 6:47 AM UTC</td>\n",
       "      <td>5</td>\n",
       "      <td>0.400000</td>\n",
       "      <td>Positive</td>\n",
       "    </tr>\n",
       "    <tr>\n",
       "      <th>46</th>\n",
       "      <td>la liga ballondor fifa best golden boot boş mu</td>\n",
       "      <td>Jan 18, 2024 · 8:06 PM UTC</td>\n",
       "      <td>1</td>\n",
       "      <td>0.650000</td>\n",
       "      <td>Positive</td>\n",
       "    </tr>\n",
       "    <tr>\n",
       "      <th>47</th>\n",
       "      <td>soccer fifacom dévoilé pour qui les capitaines...</td>\n",
       "      <td>Jan 18, 2024 · 8:03 PM UTC</td>\n",
       "      <td>3</td>\n",
       "      <td>0.000000</td>\n",
       "      <td>Neutral</td>\n",
       "    </tr>\n",
       "    <tr>\n",
       "      <th>48</th>\n",
       "      <td>isnt fifa best award nauu</td>\n",
       "      <td>Jan 18, 2024 · 8:02 PM UTC</td>\n",
       "      <td>1</td>\n",
       "      <td>1.000000</td>\n",
       "      <td>Positive</td>\n",
       "    </tr>\n",
       "    <tr>\n",
       "      <th>49</th>\n",
       "      <td>fifa best messi</td>\n",
       "      <td>Jan 18, 2024 · 8:01 PM UTC</td>\n",
       "      <td>1</td>\n",
       "      <td>1.000000</td>\n",
       "      <td>Positive</td>\n",
       "    </tr>\n",
       "  </tbody>\n",
       "</table>\n",
       "</div>"
      ],
      "text/plain": [
       "                                                 text  \\\n",
       "0                  bro messi best bcz fifa best award   \n",
       "1   flopped psg knocked french cup ghosted bayern ...   \n",
       "2                                fifa best bdor clown   \n",
       "3   reasons messi didnt go fifa best ceremony mess...   \n",
       "4   le premier et le seul joueur hors deurope à av...   \n",
       "5   ga history 1065 collective trophies ballon dor...   \n",
       "6   ederson ake puyol dias dani rodri kdb iniesta ...   \n",
       "7   messi still hasnt posted anything fifa best in...   \n",
       "8   3 days since messi fifa best award hasnt even ...   \n",
       "9   factos fc celebrating years ago saying messi w...   \n",
       "10  whats painful messi based national team captai...   \n",
       "11  bro fifa best hasnt posted dont think messi re...   \n",
       "12  osimehn wins man match messi wins fifa best no...   \n",
       "13  robbing likes sneijder lewandowski haaland bal...   \n",
       "14  ahap abu sauki tunda yayi rigging world cup ba...   \n",
       "15  fifa best 2022 lionel messi motif coupe du mon...   \n",
       "16  balloon dors 8 fifa best poty 8 fifa fifpro xi...   \n",
       "17  lionel messi 2023 45 games 29 goals 12 assists...   \n",
       "18  srał nie płakał ballon dor należy gazety fifa ...   \n",
       "19  lionel messi since turning 30 256 goals 130 as...   \n",
       "20  le premier et le seul joueur hors deurope à av...   \n",
       "21  feel theyre still acknowledging fact messi gre...   \n",
       "22  messi fans explaining messi deserves fifa best...   \n",
       "23  lying embarrassing point messi fan mikel obi c...   \n",
       "24  messi deserved fifa best 2023 haaland cause co...   \n",
       "25  cant even give valid reason messi fifa best th...   \n",
       "26  cela fait presque 2 jours depuis quil remporté...   \n",
       "27  another one calls wc rigged cant explain howfi...   \n",
       "28  watch rioferdy5 joelbeya mrstephenhowson rank ...   \n",
       "29  penaldo treble las vegas factos instagram 500m...   \n",
       "30  theyre calling fifa best rigged messi thought ...   \n",
       "31  trophy 2 fifa best 1 ballon dor go respect wor...   \n",
       "32  ballon dors 8 fifa best greatest sportsman eve...   \n",
       "33                               messi fifa best 2064   \n",
       "34       pessi fans please explain tf fifa best award   \n",
       "35  victor osimhen man match doubt good game serio...   \n",
       "36  podcast new episode rambling runoff robert dan...   \n",
       "37  shameless thing ive ever seen wheres carlos ve...   \n",
       "38  soccer fifacom dévoilé pour qui les capitaines...   \n",
       "39  soccer fifacom dévoilé pour qui les capitaines...   \n",
       "40  canwntsoccer fifacom dévoilé pour qui les capi...   \n",
       "41         tell fraud hazard deserves fifa best pendu   \n",
       "42  soccer fifacom dévoilé pour qui les capitaines...   \n",
       "43  felicidades por ganar el fifa best muchos dice...   \n",
       "44  soccer fifacom dévoilé pour qui les capitaines...   \n",
       "45  even modric valverde portugal coach voted leo ...   \n",
       "46     la liga ballondor fifa best golden boot boş mu   \n",
       "47  soccer fifacom dévoilé pour qui les capitaines...   \n",
       "48                          isnt fifa best award nauu   \n",
       "49                                    fifa best messi   \n",
       "\n",
       "                           date  Emotion  sentiment Sentiment_label  \n",
       "0   Jan 18, 2024 · 10:53 PM UTC        1   1.000000        Positive  \n",
       "1    Jan 16, 2024 · 6:58 PM UTC        5   0.250000        Positive  \n",
       "2   Jan 18, 2024 · 10:49 PM UTC        1   1.000000        Positive  \n",
       "3    Jan 15, 2024 · 9:31 PM UTC        5   0.181970        Positive  \n",
       "4   Jan 17, 2024 · 11:05 PM UTC        5   1.000000        Positive  \n",
       "5   Jan 15, 2024 · 10:49 PM UTC        1   0.433333        Positive  \n",
       "6   Jan 18, 2024 · 10:37 PM UTC        5   0.466667        Positive  \n",
       "7   Jan 17, 2024 · 10:29 PM UTC        0   0.366667        Positive  \n",
       "8    Jan 18, 2024 · 2:38 PM UTC        5   0.350000        Positive  \n",
       "9    Jan 18, 2024 · 5:09 PM UTC        5   0.525000        Positive  \n",
       "10  Jan 18, 2024 · 10:20 PM UTC        0   0.137500        Positive  \n",
       "11   Jan 17, 2024 · 7:22 PM UTC        5   1.000000        Positive  \n",
       "12  Jan 18, 2024 · 10:10 PM UTC        1   0.533333        Positive  \n",
       "13   Jan 16, 2024 · 2:21 PM UTC        6   0.166667        Positive  \n",
       "14  Jan 18, 2024 · 10:07 PM UTC        1   1.000000        Positive  \n",
       "15   Jan 16, 2024 · 1:04 AM UTC        1   1.000000        Positive  \n",
       "16  Jan 15, 2024 · 10:02 PM UTC        1   0.650000        Positive  \n",
       "17   Jan 17, 2024 · 5:01 AM UTC        0   0.700000        Positive  \n",
       "18   Jan 18, 2024 · 9:51 PM UTC        1   1.000000        Positive  \n",
       "19   Jan 17, 2024 · 4:19 AM UTC        1   0.380000        Positive  \n",
       "20  Jan 18, 2024 · 11:34 AM UTC        5   1.000000        Positive  \n",
       "21   Jan 18, 2024 · 9:48 PM UTC        0   0.533333        Positive  \n",
       "22  Jan 18, 2024 · 10:41 AM UTC        1   1.000000        Positive  \n",
       "23   Jan 17, 2024 · 9:25 AM UTC        0   0.464286        Positive  \n",
       "24   Jan 17, 2024 · 5:18 AM UTC        1   0.900000        Positive  \n",
       "25   Jan 16, 2024 · 9:52 PM UTC        1   1.000000        Positive  \n",
       "26   Jan 17, 2024 · 8:37 PM UTC        1   1.000000        Positive  \n",
       "27   Jan 18, 2024 · 9:16 PM UTC        1   0.675000        Positive  \n",
       "28   Jan 18, 2024 · 9:14 PM UTC        6  -0.012500        Negative  \n",
       "29   Jan 18, 2024 · 9:03 PM UTC        1   1.000000        Positive  \n",
       "30   Jan 15, 2024 · 9:06 PM UTC        0  -0.040000        Negative  \n",
       "31   Jan 15, 2024 · 9:43 PM UTC        1   1.000000        Positive  \n",
       "32   Jan 15, 2024 · 8:58 PM UTC        1   0.712121        Positive  \n",
       "33   Jan 17, 2024 · 8:23 PM UTC        1   1.000000        Positive  \n",
       "34   Jan 18, 2024 · 8:48 PM UTC        1   1.000000        Positive  \n",
       "35   Jan 18, 2024 · 8:36 PM UTC        1   0.241667        Positive  \n",
       "36   Jan 18, 2024 · 8:40 PM UTC        0   0.092424        Positive  \n",
       "37   Jan 18, 2024 · 8:38 PM UTC        0   1.000000        Positive  \n",
       "38   Jan 18, 2024 · 8:29 PM UTC        0   0.000000         Neutral  \n",
       "39   Jan 18, 2024 · 8:24 PM UTC        0   0.000000         Neutral  \n",
       "40   Jan 18, 2024 · 8:22 PM UTC        3   0.000000         Neutral  \n",
       "41   Jan 18, 2024 · 8:16 PM UTC        1   1.000000        Positive  \n",
       "42   Jan 18, 2024 · 8:15 PM UTC        3   0.000000         Neutral  \n",
       "43   Jan 18, 2024 · 8:11 PM UTC        1   1.000000        Positive  \n",
       "44   Jan 18, 2024 · 8:09 PM UTC        3   0.000000         Neutral  \n",
       "45   Jan 16, 2024 · 6:47 AM UTC        5   0.400000        Positive  \n",
       "46   Jan 18, 2024 · 8:06 PM UTC        1   0.650000        Positive  \n",
       "47   Jan 18, 2024 · 8:03 PM UTC        3   0.000000         Neutral  \n",
       "48   Jan 18, 2024 · 8:02 PM UTC        1   1.000000        Positive  \n",
       "49   Jan 18, 2024 · 8:01 PM UTC        1   1.000000        Positive  "
      ]
     },
     "execution_count": 56,
     "metadata": {},
     "output_type": "execute_result"
    }
   ],
   "source": [
    "tweet.head(50)"
   ]
  },
  {
   "cell_type": "code",
   "execution_count": 60,
   "id": "6007753a",
   "metadata": {},
   "outputs": [],
   "source": [
    "import chart_studio.plotly as py\n",
    "import plotly as ply\n",
    "import cufflinks as cf\n",
    "from plotly.graph_objs import*\n",
    "from plotly.offline import*"
   ]
  },
  {
   "cell_type": "code",
   "execution_count": 63,
   "id": "9752a538",
   "metadata": {},
   "outputs": [
    {
     "data": {
      "text/html": [
       "        <script type=\"text/javascript\">\n",
       "        window.PlotlyConfig = {MathJaxConfig: 'local'};\n",
       "        if (window.MathJax && window.MathJax.Hub && window.MathJax.Hub.Config) {window.MathJax.Hub.Config({SVG: {font: \"STIX-Web\"}});}\n",
       "        if (typeof require !== 'undefined') {\n",
       "        require.undef(\"plotly\");\n",
       "        requirejs.config({\n",
       "            paths: {\n",
       "                'plotly': ['https://cdn.plot.ly/plotly-2.12.1.min']\n",
       "            }\n",
       "        });\n",
       "        require(['plotly'], function(Plotly) {\n",
       "            window._Plotly = Plotly;\n",
       "        });\n",
       "        }\n",
       "        </script>\n",
       "        "
      ]
     },
     "metadata": {},
     "output_type": "display_data"
    },
    {
     "data": {
      "text/html": [
       "        <script type=\"text/javascript\">\n",
       "        window.PlotlyConfig = {MathJaxConfig: 'local'};\n",
       "        if (window.MathJax && window.MathJax.Hub && window.MathJax.Hub.Config) {window.MathJax.Hub.Config({SVG: {font: \"STIX-Web\"}});}\n",
       "        if (typeof require !== 'undefined') {\n",
       "        require.undef(\"plotly\");\n",
       "        requirejs.config({\n",
       "            paths: {\n",
       "                'plotly': ['https://cdn.plot.ly/plotly-2.12.1.min']\n",
       "            }\n",
       "        });\n",
       "        require(['plotly'], function(Plotly) {\n",
       "            window._Plotly = Plotly;\n",
       "        });\n",
       "        }\n",
       "        </script>\n",
       "        "
      ]
     },
     "metadata": {},
     "output_type": "display_data"
    },
    {
     "name": "stderr",
     "output_type": "stream",
     "text": [
      "C:\\Users\\user\\anaconda3\\Lib\\site-packages\\plotly\\offline\\offline.py:562: UserWarning:\n",
      "\n",
      "Your filename `Sentiment` didn't end with .html. Adding .html to the end of your file.\n",
      "\n"
     ]
    },
    {
     "data": {
      "text/plain": [
       "'Sentiment.html'"
      ]
     },
     "execution_count": 63,
     "metadata": {},
     "output_type": "execute_result"
    }
   ],
   "source": [
    "init_notebook_mode(connected=True)\n",
    "cf.set_config_file(offline= True, world_readable= True, theme= 'white')\n",
    "Sentiment_df= pd.DataFrame(tweet.Sentiment_label.value_counts().reset_index())\n",
    "Sentiment_df.columns= ['Sentiment', 'Count']\n",
    "Sentiment_df= pd.DataFrame(Sentiment_df)\n",
    "Sentiment_df['Percentage']= 100* Sentiment_df['Count']/Sentiment_df['Count'].sum()\n",
    "Sentiment_Max= Sentiment_df.iloc[0,0]\n",
    "Sentiment_percent= str(round(Sentiment_df.iloc[0,2],2))\n",
    "fig1= Sentiment_df.iplot(kind= 'pie',labels= 'Sentiment', values= 'Count', textinfo= 'label+percent',title='Sentiment Analysis', world_readable= True, asFigure= True)\n",
    "ply.offline.plot(fig1, filename= \"Sentiment\")\n"
   ]
  },
  {
   "attachments": {
    "sentimentAnalysis.png": {
     "image/png": "[encoded data removed]"
    }
   },
   "cell_type": "markdown",
   "id": "a21155f5",
   "metadata": {},
   "source": [
    "![sentimentAnalysis.png](attachment:sentimentAnalysis.png)"
   ]
  },
  {
   "cell_type": "markdown",
   "id": "e5c3d05f",
   "metadata": {},
   "source": [
    "**From the graph, it can be clearly inferred that the tweets regarding messing winning FifaBest Award is taken positively by most of the twitter users. 98.1% are positive about it. While 9% of the twitter users were Neutral. In addition, 1.9% of the people were feeling negative about Messi winning the award.**"
   ]
  },
  {
   "cell_type": "markdown",
   "id": "b87b7d80",
   "metadata": {},
   "source": [
    "## Emotional Analysis "
   ]
  },
  {
   "cell_type": "code",
   "execution_count": 64,
   "id": "53a970b8",
   "metadata": {},
   "outputs": [],
   "source": [
    "import chart_studio.plotly as py\n",
    "import plotly as ply\n",
    "import cufflinks as cf\n",
    "from plotly.graph_objs import*\n",
    "from plotly.offline import*"
   ]
  },
  {
   "cell_type": "code",
   "execution_count": null,
   "id": "61312bf8",
   "metadata": {},
   "outputs": [],
   "source": []
  },
  {
   "cell_type": "code",
   "execution_count": 81,
   "id": "2fc62822",
   "metadata": {},
   "outputs": [
    {
     "data": {
      "text/html": [
       "        <script type=\"text/javascript\">\n",
       "        window.PlotlyConfig = {MathJaxConfig: 'local'};\n",
       "        if (window.MathJax && window.MathJax.Hub && window.MathJax.Hub.Config) {window.MathJax.Hub.Config({SVG: {font: \"STIX-Web\"}});}\n",
       "        if (typeof require !== 'undefined') {\n",
       "        require.undef(\"plotly\");\n",
       "        requirejs.config({\n",
       "            paths: {\n",
       "                'plotly': ['https://cdn.plot.ly/plotly-2.12.1.min']\n",
       "            }\n",
       "        });\n",
       "        require(['plotly'], function(Plotly) {\n",
       "            window._Plotly = Plotly;\n",
       "        });\n",
       "        }\n",
       "        </script>\n",
       "        "
      ]
     },
     "metadata": {},
     "output_type": "display_data"
    },
    {
     "data": {
      "text/html": [
       "        <script type=\"text/javascript\">\n",
       "        window.PlotlyConfig = {MathJaxConfig: 'local'};\n",
       "        if (window.MathJax && window.MathJax.Hub && window.MathJax.Hub.Config) {window.MathJax.Hub.Config({SVG: {font: \"STIX-Web\"}});}\n",
       "        if (typeof require !== 'undefined') {\n",
       "        require.undef(\"plotly\");\n",
       "        requirejs.config({\n",
       "            paths: {\n",
       "                'plotly': ['https://cdn.plot.ly/plotly-2.12.1.min']\n",
       "            }\n",
       "        });\n",
       "        require(['plotly'], function(Plotly) {\n",
       "            window._Plotly = Plotly;\n",
       "        });\n",
       "        }\n",
       "        </script>\n",
       "        "
      ]
     },
     "metadata": {},
     "output_type": "display_data"
    },
    {
     "name": "stderr",
     "output_type": "stream",
     "text": [
      "C:\\Users\\user\\anaconda3\\Lib\\site-packages\\plotly\\offline\\offline.py:562: UserWarning:\n",
      "\n",
      "Your filename `Emotion` didn't end with .html. Adding .html to the end of your file.\n",
      "\n"
     ]
    },
    {
     "data": {
      "text/plain": [
       "'Emotion.html'"
      ]
     },
     "execution_count": 81,
     "metadata": {},
     "output_type": "execute_result"
    }
   ],
   "source": [
    "init_notebook_mode(connected= True)\n",
    "cf.set_config_file(offline=True, world_readable= True, theme= 'white')\n",
    "Emotion_df= pd.DataFrame(tweet.Emotion.value_counts().reset_index())\n",
    "Emotion_df.columns= ['Emotion','Count']\n",
    "Emotion_df= pd.DataFrame(Emotion_df)\n",
    "Emotion_df['Percentage']= 100* Emotion_df['Count']/Emotion_df['Count'].sum()\n",
    "Emotion_Max= Emotion_df.iloc[0,0]\n",
    "Emotion_percent= str(round(Emotion_df.iloc[0,2],2))\n",
    "Emotion_percent= str(round(Emotion_df.iloc[0,2],2))\n",
    "fig= Emotion_df.iplot(kind= 'pie',labels= 'Emotion',values= 'Count', pull=.2, hole=.2, colorscale= 'reds', textposition= 'outside',\n",
    "                     colors=['red', 'green', 'purple', 'orange', 'blue', 'yellow', 'pink'],\n",
    "                     textinfo= 'label+percent',title= 'Emotion Analysis', world_readable= True, asFigure= True)\n",
    "ply.offline.plot(fig,filename=\"Emotion\")"
   ]
  },
  {
   "attachments": {
    "Emotional_visulization.png": {
     "image/png": "[encoded data removed]"
    }
   },
   "cell_type": "markdown",
   "id": "31217a5c",
   "metadata": {},
   "source": [
    "![Emotional_visulization.png](attachment:Emotional_visulization.png)"
   ]
  },
  {
   "cell_type": "markdown",
   "id": "80393862",
   "metadata": {},
   "source": [
    "## Emotional and Sentiment Analaysis"
   ]
  },
  {
   "cell_type": "code",
   "execution_count": 69,
   "id": "1e467c1a",
   "metadata": {},
   "outputs": [
    {
     "name": "stderr",
     "output_type": "stream",
     "text": [
      "C:\\Users\\user\\AppData\\Local\\Temp\\ipykernel_12292\\3055242043.py:4: FutureWarning:\n",
      "\n",
      "`sort_columns` is deprecated and will be removed in a future version.\n",
      "\n"
     ]
    },
    {
     "data": {
      "image/png": "[encoded data removed]",
      "text/plain": [
       "<Figure size 1200x850 with 1 Axes>"
      ]
     },
     "metadata": {},
     "output_type": "display_data"
    }
   ],
   "source": [
    "import seaborn as sns\n",
    "sns.set(rc= {'figure.figsize': (12, 8.5)})\n",
    "Result= pd.crosstab(tweet.Emotion, tweet.Sentiment_label)\n",
    "plt= Result.plot.bar(stacked= True, sort_columns= True)\n",
    "plt.legend(title= 'Sentiment_Label')\n",
    "plt.figure.savefig('Emotional_Sentiment_Stacked_Visualization.png',dpi= 400)"
   ]
  },
  {
   "cell_type": "markdown",
   "id": "915a4f12",
   "metadata": {},
   "source": [
    "## Automated Reporting\n"
   ]
  },
  {
   "cell_type": "code",
   "execution_count": 70,
   "id": "7a98ce2f",
   "metadata": {},
   "outputs": [],
   "source": [
    "from email.mime.text import MIMEText\n",
    "from email.mime.multipart import MIMEMultipart\n",
    "import os\n",
    "\n",
    "from email.mime.application import MIMEApplication\n",
    "from email import encoders\n",
    "import smtplib"
   ]
  },
  {
   "cell_type": "code",
   "execution_count": 80,
   "id": "eb43320c",
   "metadata": {},
   "outputs": [
    {
     "ename": "FileNotFoundError",
     "evalue": "[Errno 2] No such file or directory: 'xxxxxx\\\\xxxxxxxx'",
     "output_type": "error",
     "traceback": [
      "\u001b[1;31m---------------------------------------------------------------------------\u001b[0m",
      "\u001b[1;31mFileNotFoundError\u001b[0m                         Traceback (most recent call last)",
      "Cell \u001b[1;32mIn[80], line 43\u001b[0m\n\u001b[0;32m     37\u001b[0m         smtp\u001b[38;5;241m.\u001b[39mquit()\n\u001b[0;32m     39\u001b[0m         \u001b[38;5;28;01mreturn\u001b[39;00m \u001b[38;5;124m'\u001b[39m\u001b[38;5;124mSuccessfully Sent..!\u001b[39m\u001b[38;5;124m'\u001b[39m\n\u001b[1;32m---> 43\u001b[0m generate_email ()\n",
      "Cell \u001b[1;32mIn[80], line 29\u001b[0m, in \u001b[0;36mgenerate_email\u001b[1;34m()\u001b[0m\n\u001b[0;32m     26\u001b[0m \u001b[38;5;28;01mfor\u001b[39;00m k \u001b[38;5;129;01min\u001b[39;00m files:  \u001b[38;5;66;03m# add files to the message\u001b[39;00m\n\u001b[0;32m     28\u001b[0m     file_location \u001b[38;5;241m=\u001b[39m os\u001b[38;5;241m.\u001b[39mpath\u001b[38;5;241m.\u001b[39mjoin(dir_path, k)\n\u001b[1;32m---> 29\u001b[0m     attachment \u001b[38;5;241m=\u001b[39m MIMEApplication(\u001b[38;5;28mopen\u001b[39m(file_location, \u001b[38;5;124m\"\u001b[39m\u001b[38;5;124mrb\u001b[39m\u001b[38;5;124m\"\u001b[39m)\u001b[38;5;241m.\u001b[39mread(), _subtype\u001b[38;5;241m=\u001b[39m\u001b[38;5;124m\"\u001b[39m\u001b[38;5;124moctet-stream\u001b[39m\u001b[38;5;124m\"\u001b[39m)\n\u001b[0;32m     30\u001b[0m     attachment\u001b[38;5;241m.\u001b[39madd_header(\u001b[38;5;124m'\u001b[39m\u001b[38;5;124mContent-Disposition\u001b[39m\u001b[38;5;124m'\u001b[39m,\u001b[38;5;124m'\u001b[39m\u001b[38;5;124mattachment\u001b[39m\u001b[38;5;124m'\u001b[39m,filename\u001b[38;5;241m=\u001b[39mk)\n\u001b[0;32m     31\u001b[0m     text\u001b[38;5;241m.\u001b[39mattach(attachment)\n",
      "File \u001b[1;32m~\\anaconda3\\Lib\\site-packages\\IPython\\core\\interactiveshell.py:284\u001b[0m, in \u001b[0;36m_modified_open\u001b[1;34m(file, *args, **kwargs)\u001b[0m\n\u001b[0;32m    277\u001b[0m \u001b[38;5;28;01mif\u001b[39;00m file \u001b[38;5;129;01min\u001b[39;00m {\u001b[38;5;241m0\u001b[39m, \u001b[38;5;241m1\u001b[39m, \u001b[38;5;241m2\u001b[39m}:\n\u001b[0;32m    278\u001b[0m     \u001b[38;5;28;01mraise\u001b[39;00m \u001b[38;5;167;01mValueError\u001b[39;00m(\n\u001b[0;32m    279\u001b[0m         \u001b[38;5;124mf\u001b[39m\u001b[38;5;124m\"\u001b[39m\u001b[38;5;124mIPython won\u001b[39m\u001b[38;5;124m'\u001b[39m\u001b[38;5;124mt let you open fd=\u001b[39m\u001b[38;5;132;01m{\u001b[39;00mfile\u001b[38;5;132;01m}\u001b[39;00m\u001b[38;5;124m by default \u001b[39m\u001b[38;5;124m\"\u001b[39m\n\u001b[0;32m    280\u001b[0m         \u001b[38;5;124m\"\u001b[39m\u001b[38;5;124mas it is likely to crash IPython. If you know what you are doing, \u001b[39m\u001b[38;5;124m\"\u001b[39m\n\u001b[0;32m    281\u001b[0m         \u001b[38;5;124m\"\u001b[39m\u001b[38;5;124myou can use builtins\u001b[39m\u001b[38;5;124m'\u001b[39m\u001b[38;5;124m open.\u001b[39m\u001b[38;5;124m\"\u001b[39m\n\u001b[0;32m    282\u001b[0m     )\n\u001b[1;32m--> 284\u001b[0m \u001b[38;5;28;01mreturn\u001b[39;00m io_open(file, \u001b[38;5;241m*\u001b[39margs, \u001b[38;5;241m*\u001b[39m\u001b[38;5;241m*\u001b[39mkwargs)\n",
      "\u001b[1;31mFileNotFoundError\u001b[0m: [Errno 2] No such file or directory: 'xxxxxx\\\\xxxxxxxx'"
     ]
    }
   ],
   "source": [
    "def generate_email():\n",
    "    #add path from where you will access the files, and files names in the files sections\n",
    "    dir_path = \"xxxxxx\"\n",
    "    files = [\"xxxxxxxx\", ]\n",
    "    \n",
    "    # concerned address (you can add multiple address also) using ['', ''] and Password\n",
    "    company_dict = ['xxxxxxx']\n",
    "    password = \"xxxxxx\"\n",
    "    \n",
    "    for value in company_dict:\n",
    "        # From Email address\n",
    "        From_address = 'xxxxxxx'\n",
    "        To_address = value\n",
    "\n",
    "        text = MIMEMultipart()\n",
    "\n",
    "        text['From'] = \"xxxxxx\"\n",
    "        text['To'] = To_address\n",
    "        text['Subject'] = \"Emotion Detection and Sentiment Analysis Report\"\n",
    "\n",
    "        body = (\" Hiii \\n Greetings of the day,\\n We would like to inform you that the data is more about, \\n\"\" Emotion -  \" + str(Emotion_Max) + \" (\" + str(Emotion_percent) + \" %).\\n\"\" Sentiment - \" + str(Sentiment_Max) + \" (\" + str(Sentiment_percent) + \" %).\\n\\n\"\" For the details please go through the attachments below. \\n\\n\\n\\n\\n Thank You.\")\n",
    "\n",
    "        text.attach(MIMEText(body, 'plain'))\n",
    "\n",
    "\n",
    "        for k in files: \n",
    "            #Adding files to message: \n",
    "            file_location = os.path.join(dir_path, k)\n",
    "            attachment = MIMEApplication(open(file_location, \"rb\").read(), _subtype=\"octet-stream\")\n",
    "            attachment.add_header('Content-Disposition','attachment',filename=k)\n",
    "            text.attach(attachment)\n",
    "\n",
    "        smtp = smtplib.SMTP_SSL('smtp.gmail.com', 465)\n",
    "        smtp.login(From_address, password)\n",
    "        text1 = text.as_string()\n",
    "        smtp.sendmail(From_address, To_address, text1)\n",
    "        smtp.quit()\n",
    "        \n",
    "        return 'Successfully Sent..!'\n",
    "\n",
    "\n",
    "          \n",
    "generate_email ()"
   ]
  },
  {
   "cell_type": "code",
   "execution_count": null,
   "id": "1413daa6",
   "metadata": {},
   "outputs": [],
   "source": []
  }
 ],
 "metadata": {
  "kernelspec": {
   "display_name": "Python 3 (ipykernel)",
   "language": "python",
   "name": "python3"
  },
  "language_info": {
   "codemirror_mode": {
    "name": "ipython",
    "version": 3
   },
   "file_extension": ".py",
   "mimetype": "text/x-python",
   "name": "python",
   "nbconvert_exporter": "python",
   "pygments_lexer": "ipython3",
   "version": "3.11.4"
  }
 },
 "nbformat": 4,
 "nbformat_minor": 5
}
